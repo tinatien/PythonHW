{
 "cells": [
  {
   "cell_type": "code",
   "execution_count": 7,
   "metadata": {
    "collapsed": false
   },
   "outputs": [
    {
     "name": "stdout",
     "output_type": "stream",
     "text": [
      "Tina Tien, 笑ㄅ\n"
     ]
    }
   ],
   "source": [
    "class Person:\n",
    "    def set_name(self, name):\n",
    "        self.name = name\n",
    "    \n",
    "    def smile(self):\n",
    "        print(\"{my_name}, 笑ㄅ\".format(my_name = self.name))\n",
    "\n",
    "p = Person()\n",
    "p.set_name(\"Tina Tien\")\n",
    "p.smile()\n"
   ]
  },
  {
   "cell_type": "code",
   "execution_count": 14,
   "metadata": {
    "collapsed": false
   },
   "outputs": [
    {
     "name": "stdout",
     "output_type": "stream",
     "text": [
      "Tina Tien, 笑ㄅ\n"
     ]
    }
   ],
   "source": [
    "class Person:\n",
    "    \n",
    "    def __init__(self, name):\n",
    "        self.__name = name\n",
    "        \n",
    "    def set_name(self, name):\n",
    "        self.name = name\n",
    "    def get_name(self):\n",
    "        return self.__name\n",
    "        \n",
    "    \n",
    "    def smile(self):\n",
    "        print(\"{my_name}, 笑ㄅ\".format(my_name = self.__name))\n",
    "\n",
    "p = Person(\"Tina Tien\")\n",
    "# p.set_name(\"Tina Tien\")\n",
    "p.smile()\n",
    "\n"
   ]
  },
  {
   "cell_type": "code",
   "execution_count": 18,
   "metadata": {
    "collapsed": false
   },
   "outputs": [
    {
     "name": "stdout",
     "output_type": "stream",
     "text": [
      "RC, 笑ㄅ\n",
      "嘿\n",
      "TH, 笑ㄅ\n",
      "嗨！\n"
     ]
    }
   ],
   "source": [
    "class Man(Person):\n",
    "    def hi(self):\n",
    "        print (\"嘿\")\n",
    "        \n",
    "class Woman(Person):\n",
    "    def hi(self):\n",
    "        print (\"嗨！\")\n",
    "        \n",
    "man = Man(\"RC\")\n",
    "man.smile()\n",
    "man.hi()\n",
    "\n",
    "woman = Woman(\"TH\")\n",
    "woman.smile()\n",
    "woman.hi()"
   ]
  },
  {
   "cell_type": "code",
   "execution_count": 27,
   "metadata": {
    "collapsed": false
   },
   "outputs": [
    {
     "name": "stdout",
     "output_type": "stream",
     "text": [
      "Tina 22\n"
     ]
    }
   ],
   "source": [
    "class SchoolMember:\n",
    "    def __init__(self, name, age):\n",
    "        self.name = name\n",
    "        self.age = age\n",
    "        \n",
    "    def tell(self):\n",
    "        print(self.name,self.age)\n",
    "        \n",
    "        \n",
    "s = SchoolMember(\"Tina\",\"22\")\n",
    "s.tell()\n",
    "        "
   ]
  },
  {
   "cell_type": "code",
   "execution_count": 35,
   "metadata": {
    "collapsed": false
   },
   "outputs": [
    {
     "name": "stdout",
     "output_type": "stream",
     "text": [
      "Tina 22\n",
      "999\n"
     ]
    }
   ],
   "source": [
    "class Teacher(SchoolMember):\n",
    "    def __init__(self, name, age, salary):\n",
    "        SchoolMember.__init__(self,name,age)\n",
    "        self.salary = salary\n",
    "    \n",
    "    def tell(self):\n",
    "        SchoolMember.tell(self)\n",
    "        print(self.salary)\n",
    "        \n",
    "money = Teacher(\"Tina\",\"22\",\"999\")\n",
    "money.tell()"
   ]
  },
  {
   "cell_type": "code",
   "execution_count": 36,
   "metadata": {
    "collapsed": false
   },
   "outputs": [
    {
     "name": "stdout",
     "output_type": "stream",
     "text": [
      "Tinaaaaa 22\n",
      "100\n"
     ]
    }
   ],
   "source": [
    "class Student(SchoolMember):\n",
    "    def __init__(self, name, age, grade):\n",
    "        SchoolMember.__init__(self,name,age)\n",
    "        self.grade = grade\n",
    "        \n",
    "    def tell(self):\n",
    "        SchoolMember.tell(self)\n",
    "        print(self.grade)\n",
    "        \n",
    "score = Student(\"Tinaaaaa\",\"22\",\"100\")\n",
    "score.tell()"
   ]
  }
 ],
 "metadata": {
  "kernelspec": {
   "display_name": "Python 3",
   "language": "python",
   "name": "python3"
  },
  "language_info": {
   "codemirror_mode": {
    "name": "ipython",
    "version": 3
   },
   "file_extension": ".py",
   "mimetype": "text/x-python",
   "name": "python",
   "nbconvert_exporter": "python",
   "pygments_lexer": "ipython3",
   "version": "3.6.0"
  }
 },
 "nbformat": 4,
 "nbformat_minor": 2
}
