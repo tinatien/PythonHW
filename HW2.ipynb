{
 "cells": [
  {
   "cell_type": "code",
   "execution_count": 6,
   "metadata": {
    "collapsed": false
   },
   "outputs": [
    {
     "name": "stdout",
     "output_type": "stream",
     "text": [
      "yadoT si os toh \n"
     ]
    }
   ],
   "source": [
    "# Given a string, you need to reverse the order of characters in each word within a sentence \n",
    "# while still preserving whitespace and initial word order.\n",
    "# Example 1:\n",
    "# Input: \"Let's take LeetCode contest\"\n",
    "# Output: \"s'teL ekat edoCteeL tsetnoc\"\n",
    "# Note: In the string, each word is separated by single space and there will not be any extra space in the string.\n",
    "\n",
    "class reverseWordsToString (object): \n",
    "#   定義一個function reverseWords\n",
    "    def reverseWords(self, s):\n",
    "#       將字串切成單字\n",
    "        splitString = s.split()\n",
    "#       宣告一個變數result存取結果\n",
    "        result = \"\"\n",
    "#       建立一個迴圈對splitString裡的每個word執行以下運算\n",
    "        for word in splitString:\n",
    "#           將每個單字反轉       \n",
    "            reverse = word[::-1]\n",
    "#           將反轉後的單字加進result，並於每個單字後加上一個空格，隔開單字\n",
    "            result += reverse + \" \" \n",
    "#       刪除result字串最後的空格\n",
    "        result.replace(result[-1],\"\")\n",
    "#       印出result\n",
    "        print(result)\n",
    "# call function 並丟入參數                \n",
    "reverseWordsToString().reverseWords(\"Today is so hot\")"
   ]
  },
  {
   "cell_type": "code",
   "execution_count": 2,
   "metadata": {
    "collapsed": false
   },
   "outputs": [
    {
     "name": "stdout",
     "output_type": "stream",
     "text": [
      "['1', '2', 'Fizz', '4', 'Buzz', 'Fizz', '7', '8', 'Fizz', 'Buzz', '11', 'Fizz', '13', '14', 'FizzBuzz', '16', '17', 'Fizz', '19', 'Buzz']\n"
     ]
    }
   ],
   "source": [
    "# Write a program that outputs the string representation of numbers from 1 to n.\n",
    "# But for multiples of three it should output “Fizz” instead of the number and for the multiples of five output “Buzz”. \n",
    "# For numbers which are multiples of both three and five output “FizzBuzz”.\n",
    "# Example:\n",
    "# n = 15,\n",
    "# Return:\n",
    "# [ \"1\",\"2\",\"Fizz\",\"4\",\"Buzz\",\"Fizz\",\"7\",\"8\",\"Fizz\",\"Buzz\",\"11\",\"Fizz\",\"13\",\"14\",\"FizzBuzz\" ]\n",
    "\n",
    "class fizzBuzz(object):\n",
    "#   定義一個function returnFizzBuzz\n",
    "    def returnFizzBuzz(self, n):\n",
    "#       建立一個list存取結果\n",
    "        result = []\n",
    "#       建立一個range(1,n+1)的迴圈執行以下運算\n",
    "        for x in range(1,n+1):\n",
    "#       如果x除以15餘數為0，則令其為FizzBuzz字串\n",
    "            if x%15==0:\n",
    "                x = \"FizzBuzz\"\n",
    "#           如果x除以3餘數為0，則令其為Fizz字串\n",
    "            elif x%3==0:\n",
    "                x = \"Fizz\"\n",
    "#           如果x除以5餘數為0，則令其為Buzz字串\n",
    "            elif x%5==0:\n",
    "                x = \"Buzz\"\n",
    "#           將剩餘不被整除的int轉成字串\n",
    "            else:\n",
    "                x = str(x)\n",
    "#           將字串加入result裡\n",
    "            result.append(x)\n",
    "#       印出result\n",
    "        print(result)\n",
    "# call function 並丟入參數             \n",
    "fizzBuzz().returnFizzBuzz(20)"
   ]
  },
  {
   "cell_type": "code",
   "execution_count": 4,
   "metadata": {
    "collapsed": false
   },
   "outputs": [
    {
     "name": "stdout",
     "output_type": "stream",
     "text": [
      "5\n"
     ]
    }
   ],
   "source": [
    "# Given a binary array, find the maximum number of consecutive 1s in this array.\n",
    "# Example 1:\n",
    "# Input: [1,1,0,1,1,1]\n",
    "# Output: 3\n",
    "# Explanation: \n",
    "# The first two digits or the last three digits are consecutive 1s.\n",
    "# The maximum number of consecutive 1s is 3.\n",
    "# Note:\n",
    "# The input array will only contain 0 and 1.\n",
    "# The length of input array is a positive integer and will not exceed 10,000\n",
    "\n",
    "class maxConsecutiveOnes(object):\n",
    "#   定義一個function findMaxConsecutiveOnes\n",
    "    def findMaxConsecutiveOnes(self, nums):\n",
    "#       建立兩個list，digitOne存取1，countOne存取digitOne的長度\n",
    "        digitOne = []\n",
    "        countOne = []\n",
    "#       建立一個迴圈對nums裡的每一個digit執行以下動作\n",
    "        for digit in nums:\n",
    "#           若digit為1，則加入digitOne的list，並計算digitOne的長度，將長度的值存入countOne\n",
    "            if digit == 1:\n",
    "                digitOne.append(digit)\n",
    "                countOne.append(len(digitOne))\n",
    "#           若digit不為1，則清空digitOne\n",
    "            else:\n",
    "                digitOne=[]\n",
    "#       印出在countOne裡最大的數值    \n",
    "        print(max(countOne))\n",
    "# call function 並丟入參數\n",
    "maxConsecutiveOnes().findMaxConsecutiveOnes([1,0,1,1,1,1,0,0,1,1,1,0,1,1,1,1,1])"
   ]
  }
 ],
 "metadata": {
  "kernelspec": {
   "display_name": "Python 3",
   "language": "python",
   "name": "python3"
  },
  "language_info": {
   "codemirror_mode": {
    "name": "ipython",
    "version": 3
   },
   "file_extension": ".py",
   "mimetype": "text/x-python",
   "name": "python",
   "nbconvert_exporter": "python",
   "pygments_lexer": "ipython3",
   "version": "3.6.0"
  }
 },
 "nbformat": 4,
 "nbformat_minor": 2
}
